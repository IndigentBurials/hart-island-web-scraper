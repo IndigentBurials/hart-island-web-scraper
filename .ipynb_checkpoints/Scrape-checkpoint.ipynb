{
 "cells": [
  {
   "cell_type": "markdown",
   "metadata": {},
   "source": [
    "# Hart Island Web-scraper\n",
    "----\n",
    "\n",
    "**Author:** Simon Aytes\n",
    "\n",
    "**Contact:** simon.aytes@lc.cuny.edu\n",
    "\n",
    "**Version:** 1.0\n",
    "\n",
    "**Date:** August 21, 2022"
   ]
  },
  {
   "cell_type": "markdown",
   "metadata": {},
   "source": [
    "## 0. Environment Configuration\n",
    "----"
   ]
  },
  {
   "cell_type": "markdown",
   "metadata": {},
   "source": [
    "### 0.1 Import Libraries"
   ]
  },
  {
   "cell_type": "code",
   "execution_count": 5,
   "metadata": {},
   "outputs": [],
   "source": [
    "from selenium import webdriver\n",
    "from selenium.webdriver import ActionChains\n",
    "from selenium.webdriver.common.action_chains import ActionChains\n",
    "from selenium.webdriver.chrome.service import Service\n",
    "from selenium.webdriver.common.by import By\n",
    "import pandas as pd\n",
    "import time\n",
    "from time import sleep\n",
    "from random import randint\n",
    "from datetime import datetime, timedelta\n",
    "from selenium.common.exceptions import NoSuchElementException      "
   ]
  },
  {
   "cell_type": "markdown",
   "metadata": {},
   "source": [
    "### 0.2 Utility Functions"
   ]
  },
  {
   "cell_type": "code",
   "execution_count": 6,
   "metadata": {},
   "outputs": [],
   "source": [
    "def check_exists_by_xpath(xpath):\n",
    "    try:\n",
    "        webdriver.find_element_by_xpath(xpath)\n",
    "    except NoSuchElementException:\n",
    "        return False\n",
    "    return True"
   ]
  },
  {
   "cell_type": "code",
   "execution_count": 11,
   "metadata": {},
   "outputs": [],
   "source": [
    "def get_date_obj(user_date):\n",
    "    temp = user_date.split(\"/\")\n",
    "    date = datetime(int(temp[2]), int(temp[0]), int(temp[1]))\n",
    "    return date"
   ]
  },
  {
   "cell_type": "markdown",
   "metadata": {},
   "source": [
    "## 1. Scrape Data\n",
    "----"
   ]
  },
  {
   "cell_type": "code",
   "execution_count": 44,
   "metadata": {
    "collapsed": true,
    "jupyter": {
     "outputs_hidden": true
    }
   },
   "outputs": [
    {
     "name": "stdin",
     "output_type": "stream",
     "text": [
      "Date From (older date, MM/DD/YYYY):  05/10/2020\n",
      "Date To (most-recent date, MM/DD/YYYY):  06/10/2020\n"
     ]
    },
    {
     "name": "stdout",
     "output_type": "stream",
     "text": [
      "Scraping data...\n",
      "\t> Loop started...\n",
      "\t\t> 06/10/2020\n",
      "\t> Loop started...\n",
      "\t\t> 06/09/2020\n",
      "\t> Loop started...\n",
      "\t\t> 06/08/2020\n",
      "\t> Loop started...\n",
      "\t\t> 06/07/2020\n",
      "\t> Loop started...\n",
      "\t\t> 06/06/2020\n",
      "\t> Loop started...\n",
      "\t\t> 06/05/2020\n",
      "\t> Loop started...\n",
      "\t\t> 06/04/2020\n",
      "\t> Loop started...\n",
      "\t\t> 06/03/2020\n",
      "\t> Loop started...\n",
      "\t\t> 06/02/2020\n",
      "\t> Loop started...\n",
      "\t\t> 06/01/2020\n",
      "\t> Loop started...\n",
      "\t\t> 05/31/2020\n",
      "\t> Loop started...\n",
      "\t\t> 05/30/2020\n",
      "\t> Loop started...\n",
      "\t\t> 05/29/2020\n",
      "\t> Loop started...\n",
      "\t\t> 05/28/2020\n",
      "\t> Loop started...\n",
      "\t\t> 05/27/2020\n",
      "\t> Loop started...\n",
      "\t\t> 05/26/2020\n",
      "\t> Loop started...\n",
      "\t\t> 05/25/2020\n",
      "\t> Loop started...\n",
      "\t\t> 05/24/2020\n",
      "\t> Loop started...\n",
      "\t\t> 05/23/2020\n",
      "\t> Loop started...\n",
      "\t\t> 05/22/2020\n",
      "\t> Loop started...\n",
      "\t\t> 05/21/2020\n",
      "\t> Loop started...\n",
      "\t\t> 05/20/2020\n",
      "\t> Loop started...\n",
      "\t\t> 05/19/2020\n",
      "\t> Loop started...\n",
      "\t\t> 05/18/2020\n",
      "\t> Loop started...\n",
      "\t\t> 05/17/2020\n",
      "\t> Loop started...\n",
      "\t\t> 05/16/2020\n",
      "\t> Loop started...\n",
      "\t\t> 05/15/2020\n",
      "\t> Loop started...\n",
      "\t\t> 05/14/2020\n",
      "\t> Loop started...\n",
      "\t\t> 05/13/2020\n",
      "\t> Loop started...\n",
      "\t\t> 05/12/2020\n",
      "\t> Loop started...\n",
      "\t\t> 05/11/2020\n",
      "\t> Loop started...\n",
      "\t\t> 05/10/2020\n",
      "\t> Loop started...\n",
      "\t\t> 05/09/2020\n",
      "\t> Loop started...\n",
      "\t\t> 05/08/2020\n",
      "Done collecting data!\n"
     ]
    }
   ],
   "source": [
    "# Features\n",
    "f_names = []\n",
    "l_names = []\n",
    "ages = []\n",
    "date_of_deaths = []\n",
    "place_of_deaths = []\n",
    "plot_no = []\n",
    "medical_examiner_nos = []\n",
    "urls = []\n",
    "date_scraped = []\n",
    "jurisdiction = []\n",
    "\n",
    "# Create list of dates with no records\n",
    "no_record_dates = []\n",
    "\n",
    "# Create list of dates with 30 or more records\n",
    "thirty_or_more_record_dates = []\n",
    "\n",
    "# Get input for from- and to- dates\n",
    "from_date = get_date_obj(input(\"Date From (older date, MM/DD/YYYY): \"))\n",
    "to_date = get_date_obj(input(\"Date To (most-recent date, MM/DD/YYYY): \"))\n",
    "curr_date = to_date + timedelta(days=1) # Add one to the start date because of loop structure\n",
    "\n",
    "print(\"Scraping data...\")\n",
    "\n",
    "# Create the webdriver\n",
    "driver = webdriver.Chrome(executable_path=\"./chromedriver/chromedriver\")\n",
    "driver.maximize_window() # Make the window larger\n",
    "\n",
    "# Initialize date flag\n",
    "date_flag = False\n",
    "\n",
    "while date_flag == False:\n",
    "    # Check if the current date being scraped is out of bounds\n",
    "    if curr_date < from_date:\n",
    "        date_flag = True\n",
    "        pass\n",
    "    \n",
    "    # Calculate new date range by subtracting one day\n",
    "    curr_date = curr_date - timedelta(days=1)\n",
    "    \n",
    "    # Get the date string to be input into the box on the page\n",
    "    curr_date_str = (curr_date).strftime(\"%m/%d/%Y\")\n",
    "    \n",
    "    print(f\"\\t\\t> {curr_date_str}\")\n",
    "    \n",
    "    try:\n",
    "        # Establish the website's address\n",
    "        url = \"https://a073-hartisland-web.nyc.gov/hartisland/pages/home/home.jsf\"\n",
    "\n",
    "        # Open website\n",
    "        driver.get(url)\n",
    "\n",
    "        # Wait for 4 seconds\n",
    "        sleep(4)\n",
    "\n",
    "        # Fill form with date range\n",
    "        dateDeathFrom = driver.find_element(By.XPATH,\"//*[@id='home_form:date_death_from_input']\")\n",
    "        dateDeathFrom.clear()\n",
    "        dateDeathFrom.send_keys(curr_date_str)\n",
    "        dateDeathTo = driver.find_element(By.XPATH,\"//*[@id='home_form:date_death_to_input']\")\n",
    "        dateDeathTo.clear()\n",
    "        dateDeathTo.send_keys(curr_date_str)\n",
    "\n",
    "        # Submit the form and load new page\n",
    "        driver.find_element(By.XPATH,\"//*[@id='home_form:search_lk']\").click()\n",
    "        sleep(3)\n",
    "\n",
    "        # Obtains number of rows and columns\n",
    "        rows = 1+len(driver.find_elements_by_xpath(\"//*[@id='search_result_table']/tbody/tr\"))\n",
    "        cols = len(driver.find_elements_by_xpath(\"//*[@id='search_result_table']/tbody/tr[1]/td\"))\n",
    "        \n",
    "        # Check if there are more than thirty records on a given date. If so, flag it\n",
    "        if rows - 1 >= 30:\n",
    "            thirty_or_more_record_dates.append(curr_date_str)\n",
    "        \n",
    "        # Gather the contents of table row-by-row\n",
    "        for r in range(1, rows):\n",
    "            row_contents = []\n",
    "            for p in range(1, cols+1):\n",
    "                # obtaining the text from each column of the table\n",
    "                value = driver.find_element_by_xpath(\"//*[@id='search_result_table']/tbody/tr[\"+str(r)+\"]/td[\"+str(p)+\"]\").text\n",
    "                row_contents.append(value)\n",
    "                #print(value, end='       ')\n",
    "\n",
    "            # Append values to lists\n",
    "            f_names.append(row_contents[1])\n",
    "            l_names.append(row_contents[0])\n",
    "            ages.append(row_contents[2])\n",
    "            date_of_deaths.append(row_contents[3])\n",
    "            place_of_deaths.append(row_contents[4])\n",
    "            plot_no.append(row_contents[5])\n",
    "            medical_examiner_nos.append(row_contents[6])\n",
    "            urls.append(url)\n",
    "            date_scraped.append(datetime.now().strftime(\"%m/%d/%Y\"))\n",
    "            jurisdiction.append(\"Hart Island\")\n",
    "\n",
    "        # Return to search\n",
    "        driver.find_element(By.XPATH,\"//*[@id='home_form:j_id_9b']\").click()\n",
    "    except Exception as e:\n",
    "        #print(f\"\\t> No records present for {curr_date_str}...\")\n",
    "        no_record_dates.append(curr_date_str)\n",
    "        continue\n",
    "\n",
    "driver.quit() # Close the ChromeDriver window\n",
    "print(\"Done collecting data!\")"
   ]
  },
  {
   "cell_type": "markdown",
   "metadata": {},
   "source": [
    "## 2. Output Data to CSV\n",
    "----"
   ]
  },
  {
   "cell_type": "code",
   "execution_count": 47,
   "metadata": {},
   "outputs": [],
   "source": [
    "# Create output dataframe with results\n",
    "data = pd.DataFrame()\n",
    "data['FName'] = f_names\n",
    "data['LName'] = l_names\n",
    "data['Age'] = ages\n",
    "data['DOD'] = date_of_deaths\n",
    "data['POD'] = place_of_deaths\n",
    "data['PlotNo'] = plot_no\n",
    "data['CaseNo'] = medical_examiner_nos\n",
    "data['Jurisdiction'] = jurisdiction\n",
    "data['DateScraped'] = date_scraped\n",
    "data['SourceURL'] = urls\n",
    "file_name = './data/DOC_' + str(datetime.now().strftime('%Y-%m-%d_%H:%M:%S')) + '.csv'\n",
    "data.to_csv(file_name)"
   ]
  }
 ],
 "metadata": {
  "kernelspec": {
   "display_name": "Python 3",
   "language": "python",
   "name": "python3"
  },
  "language_info": {
   "codemirror_mode": {
    "name": "ipython",
    "version": 3
   },
   "file_extension": ".py",
   "mimetype": "text/x-python",
   "name": "python",
   "nbconvert_exporter": "python",
   "pygments_lexer": "ipython3",
   "version": "3.8.5"
  }
 },
 "nbformat": 4,
 "nbformat_minor": 4
}
